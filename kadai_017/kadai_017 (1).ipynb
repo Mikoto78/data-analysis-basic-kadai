{
  "nbformat": 4,
  "nbformat_minor": 0,
  "metadata": {
    "colab": {
      "provenance": []
    },
    "kernelspec": {
      "name": "python3",
      "display_name": "Python 3"
    },
    "language_info": {
      "name": "python"
    }
  },
  "cells": [
    {
      "cell_type": "code",
      "execution_count": 22,
      "metadata": {
        "colab": {
          "base_uri": "https://localhost:8080/"
        },
        "id": "832ptysB4ycW",
        "outputId": "fccdddba-466a-49e8-e72b-87bd31677f86"
      },
      "outputs": [
        {
          "output_type": "stream",
          "name": "stdout",
          "text": [
            "侍太郎は大人です\n",
            "侍二郎は大人です\n",
            "侍三郎は未成年です\n",
            "侍四郎は未成年です\n"
          ]
        }
      ],
      "source": [
        "#クラスを定義\n",
        "class Human:\n",
        "  #属性を定義、初期化\n",
        "  def __init__(self, name, age):\n",
        "    self.name=name\n",
        "    self.age=age\n",
        "\n",
        "  #メッソドを定義\n",
        "  def check_adult(self):\n",
        "    #条件を設定\n",
        "    if self.age >20:\n",
        "      print(f\"{self.name}は大人です\")\n",
        "    else:\n",
        "      print(f\"{self.name}は未成年です\")\n",
        "\n",
        "#リストの作成\n",
        "people =[\n",
        "    Human(\"侍太郎\", 40),\n",
        "    Human(\"侍二郎\", 21),\n",
        "    Human(\"侍三郎\", 13),\n",
        "    Human(\"侍四郎\", 11),\n",
        "]\n",
        "#繰り返しを定義、インスタンスを作成\n",
        "for human in people:\n",
        "  human.check_adult()\n",
        "\n",
        "\n",
        "\n",
        "\n",
        "\n"
      ]
    }
  ]
}