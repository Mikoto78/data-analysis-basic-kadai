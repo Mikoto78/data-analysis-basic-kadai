{
  "nbformat": 4,
  "nbformat_minor": 0,
  "metadata": {
    "colab": {
      "provenance": []
    },
    "kernelspec": {
      "name": "python3",
      "display_name": "Python 3"
    },
    "language_info": {
      "name": "python"
    }
  },
  "cells": [
    {
      "cell_type": "code",
      "execution_count": 16,
      "metadata": {
        "colab": {
          "base_uri": "https://localhost:8080/"
        },
        "id": "832ptysB4ycW",
        "outputId": "b0240dcd-cab8-4237-832c-39ede0a294e1"
      },
      "outputs": [
        {
          "output_type": "stream",
          "name": "stdout",
          "text": [
            "侍太郎は大人です\n",
            "侍二郎は未成年です\n",
            "侍三郎は未成年です\n",
            "侍四郎は未成年です\n",
            "侍五郎は大人です\n"
          ]
        }
      ],
      "source": [
        "#クラスを定義\n",
        "class Human:\n",
        "  #属性を定義、初期化\n",
        "  def __int__(self):\n",
        "    self.name=\"\"\n",
        "    self.age=\"\"\n",
        "\n",
        "  #メッソドを定義\n",
        "  def check_adult(self, name, age):\n",
        "    #条件を設定\n",
        "    for i in range(len(ages)):\n",
        "      self.name = names[i]\n",
        "      self.age =ages[i]\n",
        "\n",
        "      if self.age >20:\n",
        "        print(f\"{self.name}は大人です\")\n",
        "      else:\n",
        "        print(f\"{self.name}は未成年です\")\n",
        "\n",
        "#リストの作成\n",
        "names =  [\"侍太郎\", \"侍二郎\", \"侍三郎\", \"侍四郎\", \"侍五郎\"]\n",
        "ages = [21, 15, 9, 10, 40]\n",
        "\n",
        "#インスタンスの作成\n",
        "human = Human()\n",
        "human.check_adult(name, age)\n",
        "\n",
        "\n",
        "\n",
        "\n"
      ]
    }
  ]
}