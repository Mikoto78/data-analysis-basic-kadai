{
  "nbformat": 4,
  "nbformat_minor": 0,
  "metadata": {
    "colab": {
      "provenance": []
    },
    "kernelspec": {
      "name": "python3",
      "display_name": "Python 3"
    },
    "language_info": {
      "name": "python"
    }
  },
  "cells": [
    {
      "cell_type": "code",
      "execution_count": 9,
      "metadata": {
        "colab": {
          "base_uri": "https://localhost:8080/"
        },
        "id": "2O_lEC7fNM8Y",
        "outputId": "a8d0f882-5e46-4216-a432-6fe5be752a7c"
      },
      "outputs": [
        {
          "output_type": "stream",
          "name": "stdout",
          "text": [
            "[[ 4  5  6  7]\n",
            " [12 17 22 27]\n",
            " [20 29 38 47]]\n",
            "47\n"
          ]
        }
      ],
      "source": [
        "#Numpyをインポート\n",
        "import numpy as np\n",
        "\n",
        "#多次元行列のコードを記述\n",
        "A=np.array([[0,1],[2,3],[4,5]])\n",
        "B=np.array([[0,1,2,3],[4,5,6,7]])\n",
        "\n",
        "#行列の積を計算して、結果を表示\n",
        "print(np.dot(A, B))\n",
        "\n",
        "#最大値を求める\n",
        "print(np.dot(A, B).max())\n",
        "\n",
        "\n",
        "\n",
        "\n"
      ]
    }
  ]
}