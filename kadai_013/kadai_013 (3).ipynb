{
  "nbformat": 4,
  "nbformat_minor": 0,
  "metadata": {
    "colab": {
      "provenance": []
    },
    "kernelspec": {
      "name": "python3",
      "display_name": "Python 3"
    },
    "language_info": {
      "name": "python"
    }
  },
  "cells": [
    {
      "cell_type": "code",
      "execution_count": 22,
      "metadata": {
        "colab": {
          "base_uri": "https://localhost:8080/"
        },
        "id": "oP-_icT5mX83",
        "outputId": "ac86cf19-23e0-49ab-c9d6-5f40afac237e"
      },
      "outputs": [
        {
          "output_type": "stream",
          "name": "stdout",
          "text": [
            "合計金額は121.0円です\n"
          ]
        }
      ],
      "source": [
        "#商品の値段と消費税を定義\n",
        "def good_price(price,tax):\n",
        "\n",
        "#商品の総額の計算式\n",
        "  total = price+(price*tax/100)\n",
        "  #戻り値の設定\n",
        "  return (total)\n",
        "\n",
        "#出力したい文字列\n",
        "print(f\"合計金額は{good_price(110,10)}円です\")"
      ]
    }
  ]
}