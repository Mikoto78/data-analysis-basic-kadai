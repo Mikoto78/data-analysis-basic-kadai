{
  "nbformat": 4,
  "nbformat_minor": 0,
  "metadata": {
    "colab": {
      "provenance": []
    },
    "kernelspec": {
      "name": "python3",
      "display_name": "Python 3"
    },
    "language_info": {
      "name": "python"
    }
  },
  "cells": [
    {
      "cell_type": "code",
      "execution_count": 19,
      "metadata": {
        "colab": {
          "base_uri": "https://localhost:8080/"
        },
        "id": "oP-_icT5mX83",
        "outputId": "1972b9fc-7783-44a5-e028-74686c539c31"
      },
      "outputs": [
        {
          "output_type": "stream",
          "name": "stdout",
          "text": [
            "合計金額は110.0円です\n"
          ]
        }
      ],
      "source": [
        "def good_price(price,tax):\n",
        "  total = price+price*tax\n",
        "  return (total)\n",
        "\n",
        "print(f\"合計金額は{good_price(100,0.10)}円です\")"
      ]
    }
  ]
}