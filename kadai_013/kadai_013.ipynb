{
  "nbformat": 4,
  "nbformat_minor": 0,
  "metadata": {
    "colab": {
      "provenance": []
    },
    "kernelspec": {
      "name": "python3",
      "display_name": "Python 3"
    },
    "language_info": {
      "name": "python"
    }
  },
  "cells": [
    {
      "cell_type": "code",
      "execution_count": 18,
      "metadata": {
        "colab": {
          "base_uri": "https://localhost:8080/"
        },
        "id": "oP-_icT5mX83",
        "outputId": "21105070-74f0-421a-8977-3ddc8906f455"
      },
      "outputs": [
        {
          "output_type": "stream",
          "name": "stdout",
          "text": [
            "合計金額は110円です\n"
          ]
        }
      ],
      "source": [
        "def good_price(price,tax):\n",
        "  total = price+tax\n",
        "  return (total)\n",
        "\n",
        "print(f\"合計金額は{good_price(100,10)}円です\")"
      ]
    }
  ]
}