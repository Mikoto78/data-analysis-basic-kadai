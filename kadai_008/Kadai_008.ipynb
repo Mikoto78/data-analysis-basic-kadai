{
  "nbformat": 4,
  "nbformat_minor": 0,
  "metadata": {
    "colab": {
      "provenance": []
    },
    "kernelspec": {
      "name": "python3",
      "display_name": "Python 3"
    },
    "language_info": {
      "name": "python"
    }
  },
  "cells": [
    {
      "cell_type": "code",
      "execution_count": 32,
      "metadata": {
        "colab": {
          "base_uri": "https://localhost:8080/"
        },
        "id": "ErpFnKPzqr8q",
        "outputId": "7c3a0290-0714-4add-c077-67499c53c547"
      },
      "outputs": [
        {
          "output_type": "execute_result",
          "data": {
            "text/plain": [
              "0.9629629629629629"
            ]
          },
          "metadata": {},
          "execution_count": 32
        }
      ],
      "source": [
        "#サンプルデータの取得\n",
        "from sklearn.datasets import load_wine\n",
        "import pandas as pd\n",
        "\n",
        "data_set = load_wine()\n",
        "data_set.feature_names\n",
        "data_set.data\n",
        "df = pd.DataFrame(data=data_set.data, columns =data_set.feature_names)\n",
        "data_set.target\n",
        "df['category'] = data_set.target\n",
        "df.head()\n",
        "\n",
        "#サンプルデータの分割\n",
        "X = data_set.data\n",
        "y = data_set.target\n",
        "\n",
        "from sklearn.model_selection import train_test_split\n",
        "train_test_split(X, y, test_size=0.3, random_state=3)\n",
        "\n",
        "X_train, X_test, y_train, y_test = train_test_split(X, y, test_size =0.3, random_state=3)\n",
        "\n",
        "#予測モデルのインスタンス化\n",
        "from sklearn.ensemble import RandomForestClassifier\n",
        "model = RandomForestClassifier(random_state=3)\n",
        "\n",
        "#モデルの学習\n",
        "model.fit(X_train, y_train)\n",
        "\n",
        "#予測モデルの評価\n",
        "y_pred = model.predict(X_test)\n",
        "y_pred\n",
        "\n",
        "from sklearn.metrics import accuracy_score\n",
        "accuracy_score(y_test, y_pred)"
      ]
    }
  ]
}