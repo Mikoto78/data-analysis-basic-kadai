{
  "nbformat": 4,
  "nbformat_minor": 0,
  "metadata": {
    "colab": {
      "provenance": []
    },
    "kernelspec": {
      "name": "python3",
      "display_name": "Python 3"
    },
    "language_info": {
      "name": "python"
    }
  },
  "cells": [
    {
      "cell_type": "code",
      "execution_count": 26,
      "metadata": {
        "colab": {
          "base_uri": "https://localhost:8080/"
        },
        "id": "2uzv4j9uQQVX",
        "outputId": "c34e05a2-5518-4bbf-a00a-bf32b2df94c0"
      },
      "outputs": [
        {
          "output_type": "stream",
          "name": "stdout",
          "text": [
            "出た数字は54\n",
            "Fizz\n"
          ]
        }
      ],
      "source": [
        "import random\n",
        "\n",
        "var = random.randint(1,100)\n",
        "print(\"出た数字は\"+str(var))\n",
        "\n",
        "if var%3 == 0:\n",
        "  print(\"Fizz\")\n",
        "elif var%5 ==0:\n",
        "  print(\"Buzz\")\n",
        "elif var%3 == 0 and var%5 ==0:\n",
        "  print(\"FizzBuzz\")\n",
        "else:\n",
        "  print(var)"
      ]
    }
  ]
}