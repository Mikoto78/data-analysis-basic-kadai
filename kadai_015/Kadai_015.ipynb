{
  "nbformat": 4,
  "nbformat_minor": 0,
  "metadata": {
    "colab": {
      "provenance": []
    },
    "kernelspec": {
      "name": "python3",
      "display_name": "Python 3"
    },
    "language_info": {
      "name": "python"
    }
  },
  "cells": [
    {
      "cell_type": "code",
      "execution_count": 7,
      "metadata": {
        "colab": {
          "base_uri": "https://localhost:8080/"
        },
        "id": "rp7UxGLc_Lu-",
        "outputId": "72b79598-421b-4600-a1fe-7f6a2abda9c4"
      },
      "outputs": [
        {
          "output_type": "stream",
          "name": "stdout",
          "text": [
            "名前は侍太郎, 年齢は25です\n"
          ]
        }
      ],
      "source": [
        "#クラスの作成と属性の定義\n",
        "class Human:\n",
        "  def __int__(self):\n",
        "    self.name =\"\"\n",
        "    self.age =\"\"\n",
        "\n",
        "  #メソッドを定義\n",
        "  def set_chara(self, name, age):\n",
        "    self.name = name\n",
        "    self.age = age\n",
        "\n",
        "  def printinfo(self):\n",
        "    print(f\"名前は{self.name}, 年齢は{self.age}です\")\n",
        "\n",
        "#インスタンス化する\n",
        "User = Human()\n",
        "\n",
        "#属性にアクセスし、値を代入\n",
        "User.set_chara(\"侍太郎\", 25)\n",
        "User.printinfo()"
      ]
    }
  ]
}