{
  "nbformat": 4,
  "nbformat_minor": 0,
  "metadata": {
    "colab": {
      "provenance": []
    },
    "kernelspec": {
      "name": "python3",
      "display_name": "Python 3"
    },
    "language_info": {
      "name": "python"
    }
  },
  "cells": [
    {
      "cell_type": "code",
      "execution_count": 12,
      "metadata": {
        "colab": {
          "base_uri": "https://localhost:8080/"
        },
        "id": "rp7UxGLc_Lu-",
        "outputId": "1c8843f0-5b9d-498f-b94e-e3f73f0dd163"
      },
      "outputs": [
        {
          "output_type": "stream",
          "name": "stdout",
          "text": [
            "名前は太郎, 年齢は25です\n"
          ]
        }
      ],
      "source": [
        "#クラスの作成と属性の定義\n",
        "class Human:\n",
        "  def __init__(self, name, age):\n",
        "    self.name =name\n",
        "    self.age =age\n",
        "\n",
        "  #メソッドを定義\n",
        "  def printinfo(self):\n",
        "    print(f\"名前は{self.name}, 年齢は{self.age}です\")\n",
        "\n",
        "human = Human(\"太郎\", 25)\n",
        "\n",
        "#属性にアクセスし、値を代入\n",
        "human.printinfo()"
      ]
    }
  ]
}