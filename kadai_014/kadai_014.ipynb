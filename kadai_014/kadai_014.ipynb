{
  "nbformat": 4,
  "nbformat_minor": 0,
  "metadata": {
    "colab": {
      "provenance": []
    },
    "kernelspec": {
      "name": "python3",
      "display_name": "Python 3"
    },
    "language_info": {
      "name": "python"
    }
  },
  "cells": [
    {
      "cell_type": "code",
      "execution_count": 3,
      "metadata": {
        "colab": {
          "base_uri": "https://localhost:8080/"
        },
        "id": "WauI8Fv0yeF-",
        "outputId": "75cd1b61-1ac7-4c1c-b856-5ae47cb1feb8"
      },
      "outputs": [
        {
          "output_type": "stream",
          "name": "stdout",
          "text": [
            "330.0\n"
          ]
        }
      ],
      "source": [
        "#値段と税率をそれぞれ定義、かつグローバルスコープに設定することで関数の範囲外でも適用できるようにする\n",
        "price1 = 100\n",
        "price2 = 200\n",
        "tax = 1.1\n",
        "\n",
        "#totalを定義\n",
        "def total():\n",
        "  #値段を返すように指示\n",
        "    return price1 + price2\n",
        "\n",
        "#計算式を定義\n",
        "print (total() * tax)"
      ]
    }
  ]
}